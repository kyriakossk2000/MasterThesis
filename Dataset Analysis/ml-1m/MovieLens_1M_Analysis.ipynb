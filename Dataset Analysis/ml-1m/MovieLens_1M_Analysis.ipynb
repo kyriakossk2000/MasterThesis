{
  "nbformat": 4,
  "nbformat_minor": 5,
  "metadata": {
    "noteable-chatgpt": {
      "create_notebook": {
        "openai_conversation_id": "def4568e-1bd0-58f7-9387-14965a283b50",
        "openai_ephemeral_user_id": "ab55dd85-8da9-5181-8a0b-cb499012b725",
        "openai_subdivision1_iso_code": "GB-SCT"
      }
    },
    "noteable": {
      "last_transaction_id": "14ab9e5e-b134-4206-96bd-c10c3732a288"
    },
    "selected_hardware_size": "small"
  },
  "cells": [
    {
      "id": "020e1506-2d71-45a7-ac76-3a298a05acf5",
      "cell_type": "code",
      "metadata": {
        "jupyter": {
          "outputs_hidden": false,
          "source_hidden": false
        },
        "noteable": {
          "cell_type": "code",
          "output_collection_id": "417ef494-3e13-48d1-8b0a-e09d23bbde47"
        },
        "ExecuteTime": {
          "end_time": "2023-06-06T17:01:32.103219+00:00",
          "start_time": "2023-06-06T17:01:25.914380+00:00"
        },
        "datalink": {
          "696563f6-e220-4337-8dbf-e473ccae7d1a": {
            "applied_filters": [],
            "dataframe_info": {
              "default_index_used": true,
              "orig_num_cols": 3,
              "orig_num_rows": 5,
              "orig_size_bytes": 160,
              "truncated_num_cols": 3,
              "truncated_num_rows": 5,
              "truncated_size_bytes": 160,
              "truncated_string_columns": []
            },
            "display_id": "696563f6-e220-4337-8dbf-e473ccae7d1a",
            "dx_settings": {
              "ALLOW_NOTEABLE_ATTRS": true,
              "COLUMN_SAMPLING_METHOD": "outer",
              "DB_LOCATION": ":memory:",
              "DEV_MODE": false,
              "DISPLAY_MAX_COLUMNS": 100,
              "DISPLAY_MAX_ROWS": 50000,
              "DISPLAY_MODE": "simple",
              "ENABLE_ASSIGNMENT": true,
              "ENABLE_DATALINK": true,
              "FLATTEN_COLUMN_VALUES": true,
              "FLATTEN_INDEX_VALUES": false,
              "GENERATE_DEX_METADATA": false,
              "HTML_TABLE_SCHEMA": false,
              "LOG_LEVEL": 30,
              "MAX_RENDER_SIZE_BYTES": 104857600,
              "MAX_STRING_LENGTH": 250,
              "NUM_PAST_SAMPLES_TRACKED": 3,
              "RANDOM_STATE": 12648430,
              "RESET_INDEX_VALUES": false,
              "ROW_SAMPLING_METHOD": "random",
              "SAMPLING_FACTOR": 0.1,
              "SAMPLING_METHOD": "random",
              "STRINGIFY_COLUMN_VALUES": true,
              "STRINGIFY_INDEX_VALUES": false
            },
            "sample_history": [],
            "sampling_time": "2023-06-06T17:01:31.873154",
            "user_variable_name": null,
            "variable_name": "unk_dataframe_2d64b31b1ca143628995c4ce6ccb7519"
          },
          "0d5b13f5-caba-48d4-bb9d-6b5ae0d80814": {
            "applied_filters": [],
            "dataframe_info": {
              "default_index_used": true,
              "orig_num_cols": 4,
              "orig_num_rows": 5,
              "orig_size_bytes": 200,
              "truncated_num_cols": 4,
              "truncated_num_rows": 5,
              "truncated_size_bytes": 200,
              "truncated_string_columns": []
            },
            "display_id": "0d5b13f5-caba-48d4-bb9d-6b5ae0d80814",
            "dx_settings": {
              "ALLOW_NOTEABLE_ATTRS": true,
              "COLUMN_SAMPLING_METHOD": "outer",
              "DB_LOCATION": ":memory:",
              "DEV_MODE": false,
              "DISPLAY_MAX_COLUMNS": 100,
              "DISPLAY_MAX_ROWS": 50000,
              "DISPLAY_MODE": "simple",
              "ENABLE_ASSIGNMENT": true,
              "ENABLE_DATALINK": true,
              "FLATTEN_COLUMN_VALUES": true,
              "FLATTEN_INDEX_VALUES": false,
              "GENERATE_DEX_METADATA": false,
              "HTML_TABLE_SCHEMA": false,
              "LOG_LEVEL": 30,
              "MAX_RENDER_SIZE_BYTES": 104857600,
              "MAX_STRING_LENGTH": 250,
              "NUM_PAST_SAMPLES_TRACKED": 3,
              "RANDOM_STATE": 12648430,
              "RESET_INDEX_VALUES": false,
              "ROW_SAMPLING_METHOD": "random",
              "SAMPLING_FACTOR": 0.1,
              "SAMPLING_METHOD": "random",
              "STRINGIFY_COLUMN_VALUES": true,
              "STRINGIFY_INDEX_VALUES": false
            },
            "sample_history": [],
            "sampling_time": "2023-06-06T17:01:31.903792",
            "user_variable_name": null,
            "variable_name": "unk_dataframe_6050bee477d7443b973ab6103c6698a1"
          },
          "ae59d860-7265-4047-ba21-7b939768d32b": {
            "applied_filters": [],
            "dataframe_info": {
              "default_index_used": true,
              "orig_num_cols": 5,
              "orig_num_rows": 5,
              "orig_size_bytes": 240,
              "truncated_num_cols": 5,
              "truncated_num_rows": 5,
              "truncated_size_bytes": 240,
              "truncated_string_columns": []
            },
            "display_id": "ae59d860-7265-4047-ba21-7b939768d32b",
            "dx_settings": {
              "ALLOW_NOTEABLE_ATTRS": true,
              "COLUMN_SAMPLING_METHOD": "outer",
              "DB_LOCATION": ":memory:",
              "DEV_MODE": false,
              "DISPLAY_MAX_COLUMNS": 100,
              "DISPLAY_MAX_ROWS": 50000,
              "DISPLAY_MODE": "simple",
              "ENABLE_ASSIGNMENT": true,
              "ENABLE_DATALINK": true,
              "FLATTEN_COLUMN_VALUES": true,
              "FLATTEN_INDEX_VALUES": false,
              "GENERATE_DEX_METADATA": false,
              "HTML_TABLE_SCHEMA": false,
              "LOG_LEVEL": 30,
              "MAX_RENDER_SIZE_BYTES": 104857600,
              "MAX_STRING_LENGTH": 250,
              "NUM_PAST_SAMPLES_TRACKED": 3,
              "RANDOM_STATE": 12648430,
              "RESET_INDEX_VALUES": false,
              "ROW_SAMPLING_METHOD": "random",
              "SAMPLING_FACTOR": 0.1,
              "SAMPLING_METHOD": "random",
              "STRINGIFY_COLUMN_VALUES": true,
              "STRINGIFY_INDEX_VALUES": false
            },
            "sample_history": [],
            "sampling_time": "2023-06-06T17:01:31.946461",
            "user_variable_name": null,
            "variable_name": "unk_dataframe_1086dbf87d0e4657a8f11378f4d57a37"
          }
        }
      },
      "execution_count": null,
      "source": "import pandas as pd\nimport matplotlib.pyplot as plt\nimport seaborn as sns\nfrom urllib.request import urlretrieve\n\n# URLs of the datasets\nmovies_url = 'https://raw.githubusercontent.com/kyriakossk2000/MasterThesis/main/Dataset%20Analysis/ml-1m/movies.dat'\nratings_url = 'https://raw.githubusercontent.com/kyriakossk2000/MasterThesis/main/Dataset%20Analysis/ml-1m/ratings.dat'\nusers_url = 'https://raw.githubusercontent.com/kyriakossk2000/MasterThesis/main/Dataset%20Analysis/ml-1m/users.dat'\n\n# Download the datasets\nurlretrieve(movies_url, 'movies.dat')\nurlretrieve(ratings_url, 'ratings.dat')\nurlretrieve(users_url, 'users.dat')\n\n# Load the datasets into pandas dataframes\nmovies = pd.read_csv('movies.dat', sep='::', engine='python', names=['MovieID', 'Title', 'Genres'], encoding='ISO-8859-1')\nratings = pd.read_csv('ratings.dat', sep='::', engine='python', names=['UserID', 'MovieID', 'Rating', 'Timestamp'], encoding='ISO-8859-1')\nusers = pd.read_csv('users.dat', sep='::', engine='python', names=['UserID', 'Gender', 'Age', 'Occupation', 'Zip-code'], encoding='ISO-8859-1')\n\n# Display the first few rows of each dataframe\ndisplay(movies.head())\ndisplay(ratings.head())\ndisplay(users.head())",
      "outputs": []
    },
    {
      "id": "834e3a3c-0869-41a2-8141-cd31be56f68d",
      "cell_type": "code",
      "metadata": {
        "jupyter": {
          "outputs_hidden": false,
          "source_hidden": false
        },
        "noteable": {
          "cell_type": "code",
          "output_collection_id": "f8c41d23-a664-4e2e-b0c8-903a8e6733d8"
        },
        "ExecuteTime": {
          "end_time": "2023-06-06T17:04:01.467508+00:00",
          "start_time": "2023-06-06T17:04:00.899715+00:00"
        },
        "datalink": {
          "517f4774-fce9-4213-a483-37dd48ed0467": {
            "applied_filters": [],
            "dataframe_info": {
              "default_index_used": true,
              "orig_num_cols": 10,
              "orig_num_rows": 5,
              "orig_size_bytes": 440,
              "truncated_num_cols": 10,
              "truncated_num_rows": 5,
              "truncated_size_bytes": 440,
              "truncated_string_columns": []
            },
            "display_id": "517f4774-fce9-4213-a483-37dd48ed0467",
            "dx_settings": {
              "ALLOW_NOTEABLE_ATTRS": true,
              "COLUMN_SAMPLING_METHOD": "outer",
              "DB_LOCATION": ":memory:",
              "DEV_MODE": false,
              "DISPLAY_MAX_COLUMNS": 100,
              "DISPLAY_MAX_ROWS": 50000,
              "DISPLAY_MODE": "simple",
              "ENABLE_ASSIGNMENT": true,
              "ENABLE_DATALINK": true,
              "FLATTEN_COLUMN_VALUES": true,
              "FLATTEN_INDEX_VALUES": false,
              "GENERATE_DEX_METADATA": false,
              "HTML_TABLE_SCHEMA": false,
              "LOG_LEVEL": 30,
              "MAX_RENDER_SIZE_BYTES": 104857600,
              "MAX_STRING_LENGTH": 250,
              "NUM_PAST_SAMPLES_TRACKED": 3,
              "RANDOM_STATE": 12648430,
              "RESET_INDEX_VALUES": false,
              "ROW_SAMPLING_METHOD": "random",
              "SAMPLING_FACTOR": 0.1,
              "SAMPLING_METHOD": "random",
              "STRINGIFY_COLUMN_VALUES": true,
              "STRINGIFY_INDEX_VALUES": false
            },
            "sample_history": [],
            "sampling_time": "2023-06-06T17:04:01.310323",
            "user_variable_name": null,
            "variable_name": "unk_dataframe_d2d3a0b7fc8c4304b114aa48c1937f2c"
          }
        }
      },
      "execution_count": null,
      "source": "# Merge the datasets\nmerged_data = pd.merge(pd.merge(ratings, users), movies)\n\n# Display the first few rows of the merged dataframe\ndisplay(merged_data.head())",
      "outputs": []
    },
    {
      "id": "1658e536-daed-4daa-8abe-2e44b970f67d",
      "cell_type": "code",
      "metadata": {
        "jupyter": {
          "outputs_hidden": false,
          "source_hidden": false
        },
        "noteable": {
          "cell_type": "code",
          "output_collection_id": "71f2eb81-2c8a-495e-bdce-3e6db758ec54"
        },
        "ExecuteTime": {
          "end_time": "2023-06-06T17:04:18.485727+00:00",
          "start_time": "2023-06-06T17:04:17.797055+00:00"
        }
      },
      "execution_count": null,
      "source": "# Analyze the distribution of ratings\nplt.figure(figsize=(10, 4))\nsns.countplot(x='Rating', data=merged_data)\nplt.title('Distribution of Ratings')\nplt.show()",
      "outputs": []
    },
    {
      "id": "18f3a780-ae14-4223-9629-348ac7ab71dc",
      "cell_type": "code",
      "metadata": {
        "jupyter": {
          "outputs_hidden": false,
          "source_hidden": false
        },
        "noteable": {
          "cell_type": "code",
          "output_collection_id": "228d1d3b-a5d4-474c-98ed-13f9037fe286"
        },
        "ExecuteTime": {
          "end_time": "2023-06-06T17:04:47.576415+00:00",
          "start_time": "2023-06-06T17:04:47.014227+00:00"
        }
      },
      "execution_count": null,
      "source": "# Analyze the distribution of user ages\nplt.figure(figsize=(10, 4))\nsns.countplot(x='Age', data=merged_data)\nplt.title('Distribution of User Ages')\nplt.show()",
      "outputs": []
    },
    {
      "id": "b52fb98f-c232-43c0-8585-df6745fb3c89",
      "cell_type": "code",
      "metadata": {
        "jupyter": {
          "outputs_hidden": false,
          "source_hidden": false
        },
        "noteable": {
          "cell_type": "code",
          "output_collection_id": "c0879ca5-4b59-4d93-b45b-124827bb14cc"
        },
        "ExecuteTime": {
          "end_time": "2023-06-06T17:05:15.484555+00:00",
          "start_time": "2023-06-06T17:05:15.217183+00:00"
        },
        "datalink": {
          "5f59205c-a3e2-4852-8213-8a0ba95fc16d": {
            "applied_filters": [],
            "dataframe_info": {
              "default_index_used": false,
              "orig_num_cols": 1,
              "orig_num_rows": 10,
              "orig_size_bytes": 160,
              "truncated_num_cols": 1,
              "truncated_num_rows": 10,
              "truncated_size_bytes": 160,
              "truncated_string_columns": []
            },
            "display_id": "5f59205c-a3e2-4852-8213-8a0ba95fc16d",
            "dx_settings": {
              "ALLOW_NOTEABLE_ATTRS": true,
              "COLUMN_SAMPLING_METHOD": "outer",
              "DB_LOCATION": ":memory:",
              "DEV_MODE": false,
              "DISPLAY_MAX_COLUMNS": 100,
              "DISPLAY_MAX_ROWS": 50000,
              "DISPLAY_MODE": "simple",
              "ENABLE_ASSIGNMENT": true,
              "ENABLE_DATALINK": true,
              "FLATTEN_COLUMN_VALUES": true,
              "FLATTEN_INDEX_VALUES": false,
              "GENERATE_DEX_METADATA": false,
              "HTML_TABLE_SCHEMA": false,
              "LOG_LEVEL": 30,
              "MAX_RENDER_SIZE_BYTES": 104857600,
              "MAX_STRING_LENGTH": 250,
              "NUM_PAST_SAMPLES_TRACKED": 3,
              "RANDOM_STATE": 12648430,
              "RESET_INDEX_VALUES": false,
              "ROW_SAMPLING_METHOD": "random",
              "SAMPLING_FACTOR": 0.1,
              "SAMPLING_METHOD": "random",
              "STRINGIFY_COLUMN_VALUES": true,
              "STRINGIFY_INDEX_VALUES": false
            },
            "sample_history": [],
            "sampling_time": "2023-06-06T17:05:15.326185",
            "user_variable_name": null,
            "variable_name": "unk_dataframe_607c89829bbc4706996e0e656b806f5a"
          }
        }
      },
      "execution_count": null,
      "source": "# Analyze the number of ratings per movie\nratings_per_movie = merged_data.groupby('Title')['Rating'].count().sort_values(ascending=False)\n\n# Display the top 10 movies with the most ratings\ndisplay(ratings_per_movie.head(10))",
      "outputs": []
    },
    {
      "id": "2fe7498f-9f2b-47cc-a2ba-667923907c80",
      "cell_type": "code",
      "metadata": {
        "jupyter": {
          "outputs_hidden": false,
          "source_hidden": false
        },
        "noteable": {
          "cell_type": "code",
          "output_collection_id": "ceeeeecf-dee4-44e9-ba08-89d1f646d0ae"
        },
        "ExecuteTime": {
          "end_time": "2023-06-06T17:05:49.398298+00:00",
          "start_time": "2023-06-06T17:05:49.115378+00:00"
        },
        "datalink": {
          "0ebf6150-3c56-44f9-931a-6f6199819c23": {
            "applied_filters": [],
            "dataframe_info": {
              "default_index_used": false,
              "orig_num_cols": 1,
              "orig_num_rows": 10,
              "orig_size_bytes": 160,
              "truncated_num_cols": 1,
              "truncated_num_rows": 10,
              "truncated_size_bytes": 160,
              "truncated_string_columns": []
            },
            "display_id": "0ebf6150-3c56-44f9-931a-6f6199819c23",
            "dx_settings": {
              "ALLOW_NOTEABLE_ATTRS": true,
              "COLUMN_SAMPLING_METHOD": "outer",
              "DB_LOCATION": ":memory:",
              "DEV_MODE": false,
              "DISPLAY_MAX_COLUMNS": 100,
              "DISPLAY_MAX_ROWS": 50000,
              "DISPLAY_MODE": "simple",
              "ENABLE_ASSIGNMENT": true,
              "ENABLE_DATALINK": true,
              "FLATTEN_COLUMN_VALUES": true,
              "FLATTEN_INDEX_VALUES": false,
              "GENERATE_DEX_METADATA": false,
              "HTML_TABLE_SCHEMA": false,
              "LOG_LEVEL": 30,
              "MAX_RENDER_SIZE_BYTES": 104857600,
              "MAX_STRING_LENGTH": 250,
              "NUM_PAST_SAMPLES_TRACKED": 3,
              "RANDOM_STATE": 12648430,
              "RESET_INDEX_VALUES": false,
              "ROW_SAMPLING_METHOD": "random",
              "SAMPLING_FACTOR": 0.1,
              "SAMPLING_METHOD": "random",
              "STRINGIFY_COLUMN_VALUES": true,
              "STRINGIFY_INDEX_VALUES": false
            },
            "sample_history": [],
            "sampling_time": "2023-06-06T17:05:49.242356",
            "user_variable_name": null,
            "variable_name": "unk_dataframe_32be747ba595483491235adb2cfe73f8"
          }
        }
      },
      "execution_count": null,
      "source": "# Analyze the average rating per movie\naverage_rating = merged_data.groupby('Title')['Rating'].mean().sort_values(ascending=False)\n\n# Display the top 10 movies with the highest average rating\ndisplay(average_rating.head(10))",
      "outputs": []
    },
    {
      "id": "a3d7df50-3874-451f-993d-adca096ecde8",
      "cell_type": "code",
      "metadata": {
        "jupyter": {
          "outputs_hidden": false,
          "source_hidden": false
        },
        "noteable": {
          "cell_type": "code",
          "output_collection_id": "ef802c9c-3d92-4ccf-bcb5-c7592041fae5"
        },
        "ExecuteTime": {
          "end_time": "2023-06-06T17:06:38.323234+00:00",
          "start_time": "2023-06-06T17:06:38.030647+00:00"
        },
        "datalink": {
          "1df6f2bf-8a02-4a26-ba2d-dc7c2179db72": {
            "applied_filters": [],
            "dataframe_info": {
              "default_index_used": false,
              "orig_num_cols": 2,
              "orig_num_rows": 10,
              "orig_size_bytes": 240,
              "truncated_num_cols": 2,
              "truncated_num_rows": 10,
              "truncated_size_bytes": 240,
              "truncated_string_columns": []
            },
            "display_id": "1df6f2bf-8a02-4a26-ba2d-dc7c2179db72",
            "dx_settings": {
              "ALLOW_NOTEABLE_ATTRS": true,
              "COLUMN_SAMPLING_METHOD": "outer",
              "DB_LOCATION": ":memory:",
              "DEV_MODE": false,
              "DISPLAY_MAX_COLUMNS": 100,
              "DISPLAY_MAX_ROWS": 50000,
              "DISPLAY_MODE": "simple",
              "ENABLE_ASSIGNMENT": true,
              "ENABLE_DATALINK": true,
              "FLATTEN_COLUMN_VALUES": true,
              "FLATTEN_INDEX_VALUES": false,
              "GENERATE_DEX_METADATA": false,
              "HTML_TABLE_SCHEMA": false,
              "LOG_LEVEL": 30,
              "MAX_RENDER_SIZE_BYTES": 104857600,
              "MAX_STRING_LENGTH": 250,
              "NUM_PAST_SAMPLES_TRACKED": 3,
              "RANDOM_STATE": 12648430,
              "RESET_INDEX_VALUES": false,
              "ROW_SAMPLING_METHOD": "random",
              "SAMPLING_FACTOR": 0.1,
              "SAMPLING_METHOD": "random",
              "STRINGIFY_COLUMN_VALUES": true,
              "STRINGIFY_INDEX_VALUES": false
            },
            "sample_history": [],
            "sampling_time": "2023-06-06T17:06:38.167723",
            "user_variable_name": null,
            "variable_name": "unk_dataframe_08200d036b80417a9d9d035b6c95981f"
          }
        }
      },
      "execution_count": null,
      "source": "# Create a dataframe with the number of ratings and the average rating for each movie\nmovie_stats = merged_data.groupby('Title').agg({'Rating': ['count', 'mean']})\nmovie_stats.columns = ['Number of Ratings', 'Average Rating']\n\n# Filter movies that have more than 1000 ratings\npopular_movies = movie_stats[movie_stats['Number of Ratings'] > 1000]\n\n# Sort by average rating\npopular_movies = popular_movies.sort_values('Average Rating', ascending=False)\n\n# Display the top 10 popular movies with the highest average rating\ndisplay(popular_movies.head(10))",
      "outputs": []
    },
    {
      "id": "bcd91ccd-b1f8-42de-a6bd-bd355ef8d4cb",
      "cell_type": "code",
      "metadata": {
        "jupyter": {
          "outputs_hidden": false,
          "source_hidden": false
        },
        "noteable": {
          "cell_type": "code",
          "output_collection_id": "4ecba3e7-2307-4ef3-8b9a-628f69908421"
        },
        "ExecuteTime": {
          "end_time": "2023-06-06T17:07:43.330096+00:00",
          "start_time": "2023-06-06T17:07:37.493291+00:00"
        }
      },
      "execution_count": null,
      "source": "# Analyze the distribution of genres\ngenres = merged_data['Genres'].str.get_dummies(sep='|').sum().sort_values(ascending=False)\n\n# Plot the distribution of genres\nplt.figure(figsize=(10, 4))\nsns.barplot(x=genres.values, y=genres.index)\nplt.title('Distribution of Genres')\nplt.xlabel('Number of Movies')\nplt.ylabel('Genre')\nplt.show()",
      "outputs": []
    },
    {
      "id": "076860a0-5a3b-4688-a9f3-443adba1203d",
      "cell_type": "code",
      "metadata": {
        "jupyter": {
          "outputs_hidden": false,
          "source_hidden": false
        },
        "noteable": {
          "cell_type": "code",
          "output_collection_id": "666a36dd-1d8b-42b2-b2cf-2d5b76e9a3a9"
        },
        "ExecuteTime": {
          "end_time": "2023-06-06T17:08:26.984293+00:00",
          "start_time": "2023-06-06T17:08:20.985672+00:00"
        }
      },
      "execution_count": null,
      "source": "# Create a dataframe with genres as columns\ngenres_df = merged_data['Genres'].str.get_dummies(sep='|')\n\n# Add the ratings to the dataframe\ngenres_df['Rating'] = merged_data['Rating']\n\n# Calculate the average rating for each genre\naverage_rating_per_genre = genres_df.groupby('Rating').mean()\n\n# Plot the average rating for each genre\naverage_rating_per_genre.T.plot(kind='bar', figsize=(10, 4))\nplt.title('Average Rating per Genre')\nplt.xlabel('Genre')\nplt.ylabel('Average Rating')\nplt.show()",
      "outputs": []
    },
    {
      "id": "a0a8df19-a5b4-46a3-a9a6-901f0dd6f79a",
      "cell_type": "code",
      "metadata": {
        "jupyter": {
          "outputs_hidden": false,
          "source_hidden": false
        },
        "noteable": {
          "cell_type": "code",
          "output_collection_id": "310aba10-4372-4820-a0b3-3a4106aadd0b"
        },
        "ExecuteTime": {
          "end_time": "2023-06-06T17:12:50.279813+00:00",
          "start_time": "2023-06-06T17:12:49.738381+00:00"
        },
        "datalink": {
          "f9d5c3f6-ab6a-4e8f-b5d2-362d6826c998": {
            "applied_filters": [],
            "dataframe_info": {
              "default_index_used": true,
              "orig_num_cols": 12,
              "orig_num_rows": 5,
              "orig_size_bytes": 520,
              "truncated_num_cols": 12,
              "truncated_num_rows": 5,
              "truncated_size_bytes": 520,
              "truncated_string_columns": []
            },
            "display_id": "f9d5c3f6-ab6a-4e8f-b5d2-362d6826c998",
            "dx_settings": {
              "ALLOW_NOTEABLE_ATTRS": true,
              "COLUMN_SAMPLING_METHOD": "outer",
              "DB_LOCATION": ":memory:",
              "DEV_MODE": false,
              "DISPLAY_MAX_COLUMNS": 100,
              "DISPLAY_MAX_ROWS": 50000,
              "DISPLAY_MODE": "simple",
              "ENABLE_ASSIGNMENT": true,
              "ENABLE_DATALINK": true,
              "FLATTEN_COLUMN_VALUES": true,
              "FLATTEN_INDEX_VALUES": false,
              "GENERATE_DEX_METADATA": false,
              "HTML_TABLE_SCHEMA": false,
              "LOG_LEVEL": 30,
              "MAX_RENDER_SIZE_BYTES": 104857600,
              "MAX_STRING_LENGTH": 250,
              "NUM_PAST_SAMPLES_TRACKED": 3,
              "RANDOM_STATE": 12648430,
              "RESET_INDEX_VALUES": false,
              "ROW_SAMPLING_METHOD": "random",
              "SAMPLING_FACTOR": 0.1,
              "SAMPLING_METHOD": "random",
              "STRINGIFY_COLUMN_VALUES": true,
              "STRINGIFY_INDEX_VALUES": false
            },
            "sample_history": [],
            "sampling_time": "2023-06-06T17:12:50.121182",
            "user_variable_name": null,
            "variable_name": "unk_dataframe_3979af0fa051419c9c65182f55b28ca4"
          }
        }
      },
      "execution_count": null,
      "source": "# Convert the timestamp to datetime\nmerged_data['Datetime'] = pd.to_datetime(merged_data['Timestamp'], unit='s')\n\n# Extract the date from the datetime\nmerged_data['Date'] = merged_data['Datetime'].dt.date\n\n# Display the first few rows of the dataframe\ndisplay(merged_data.head())",
      "outputs": []
    },
    {
      "id": "95e42a1a-ae7b-4856-b73b-b77d8bb76069",
      "cell_type": "code",
      "metadata": {
        "jupyter": {
          "outputs_hidden": false,
          "source_hidden": false
        },
        "noteable": {
          "cell_type": "code",
          "output_collection_id": "f7dfd4e6-ca09-4319-baee-67f100c5e531"
        },
        "ExecuteTime": {
          "end_time": "2023-06-06T17:13:15.038612+00:00",
          "start_time": "2023-06-06T17:13:14.412841+00:00"
        }
      },
      "execution_count": null,
      "source": "# Analyze the number of ratings per day\nratings_per_day = merged_data.groupby('Date')['Rating'].count()\n\n# Plot the number of ratings per day\nplt.figure(figsize=(10, 4))\nratings_per_day.plot()\nplt.title('Number of Ratings per Day')\nplt.xlabel('Date')\nplt.ylabel('Number of Ratings')\nplt.show()",
      "outputs": []
    },
    {
      "id": "9d16ce85-148d-42f7-9d53-5adf4ca2d2aa",
      "cell_type": "code",
      "metadata": {
        "jupyter": {
          "outputs_hidden": false,
          "source_hidden": false
        },
        "noteable": {
          "cell_type": "code",
          "output_collection_id": "1aaa25ff-4ac5-43f4-9d18-9abc69eaaf2e"
        },
        "ExecuteTime": {
          "end_time": "2023-06-06T17:13:55.854115+00:00",
          "start_time": "2023-06-06T17:13:55.312682+00:00"
        }
      },
      "execution_count": null,
      "source": "# Analyze the number of ratings per user\nratings_per_user = merged_data.groupby('UserID')['Rating'].count().sort_values(ascending=False)\n\n# Plot the distribution of the number of ratings per user\nplt.figure(figsize=(10, 4))\nsns.histplot(ratings_per_user, bins=50, kde=False)\nplt.title('Distribution of the Number of Ratings per User')\nplt.xlabel('Number of Ratings')\nplt.ylabel('Number of Users')\nplt.show()",
      "outputs": []
    },
    {
      "id": "2f2b70a6-62cd-4d38-9902-555381636de7",
      "cell_type": "code",
      "metadata": {
        "jupyter": {
          "outputs_hidden": false,
          "source_hidden": false
        },
        "noteable": {
          "cell_type": "code",
          "output_collection_id": "caecf1fc-159b-4587-9f94-f00fa949878a"
        },
        "ExecuteTime": {
          "end_time": "2023-06-06T17:14:34.920475+00:00",
          "start_time": "2023-06-06T17:14:34.313844+00:00"
        }
      },
      "execution_count": null,
      "source": "# Analyze the number of ratings per movie\nratings_per_movie = merged_data.groupby('Title')['Rating'].count().sort_values(ascending=False)\n\n# Plot the distribution of the number of ratings per movie\nplt.figure(figsize=(10, 4))\nsns.histplot(ratings_per_movie, bins=50, kde=False)\nplt.title('Distribution of the Number of Ratings per Movie')\nplt.xlabel('Number of Ratings')\nplt.ylabel('Number of Movies')\nplt.show()",
      "outputs": []
    },
    {
      "id": "0dde0cf7-7a37-409f-8ea8-13e0c49ff960",
      "cell_type": "code",
      "metadata": {
        "jupyter": {
          "outputs_hidden": false,
          "source_hidden": false
        },
        "noteable": {
          "cell_type": "code",
          "output_collection_id": "e16fad3d-74fd-4eac-8fe9-13f595d77a59"
        },
        "ExecuteTime": {
          "end_time": "2023-06-06T17:15:11.959026+00:00",
          "start_time": "2023-06-06T17:15:11.312552+00:00"
        }
      },
      "execution_count": null,
      "source": "# Analyze the average rating per movie\naverage_rating_per_movie = merged_data.groupby('Title')['Rating'].mean().sort_values(ascending=False)\n\n# Plot the distribution of the average rating per movie\nplt.figure(figsize=(10, 4))\nsns.histplot(average_rating_per_movie, bins=50, kde=False)\nplt.title('Distribution of the Average Rating per Movie')\nplt.xlabel('Average Rating')\nplt.ylabel('Number of Movies')\nplt.show()",
      "outputs": []
    },
    {
      "id": "2924e12f-40d8-4229-be16-051b03e875bb",
      "cell_type": "code",
      "metadata": {
        "jupyter": {
          "outputs_hidden": false,
          "source_hidden": false
        },
        "noteable": {
          "cell_type": "code",
          "output_collection_id": "c9c6813e-8536-4d78-bfed-24c0d2226fb4"
        },
        "ExecuteTime": {
          "end_time": "2023-06-06T17:15:50.605615+00:00",
          "start_time": "2023-06-06T17:15:50.090773+00:00"
        }
      },
      "execution_count": null,
      "source": "# Analyze the number of ratings per day of the week\nmerged_data['Day of Week'] = merged_data['Datetime'].dt.dayofweek\nratings_per_day_of_week = merged_data.groupby('Day of Week')['Rating'].count()\n\n# Plot the number of ratings per day of the week\nplt.figure(figsize=(10, 4))\nratings_per_day_of_week.plot()\nplt.title('Number of Ratings per Day of the Week')\nplt.xlabel('Day of the Week')\nplt.ylabel('Number of Ratings')\nplt.xticks(range(7), ['Monday', 'Tuesday', 'Wednesday', 'Thursday', 'Friday', 'Saturday', 'Sunday'])\nplt.show()",
      "outputs": []
    },
    {
      "id": "47dc0329-e234-4cb3-8a3f-66d838555625",
      "cell_type": "code",
      "metadata": {
        "jupyter": {
          "outputs_hidden": false,
          "source_hidden": false
        },
        "noteable": {
          "cell_type": "code",
          "output_collection_id": "5eb85a93-9378-4785-9699-91697b7f308c"
        },
        "ExecuteTime": {
          "end_time": "2023-06-07T10:58:48.488787+00:00",
          "start_time": "2023-06-07T10:58:41.686424+00:00"
        }
      },
      "execution_count": null,
      "source": "import pandas as pd\nimport matplotlib.pyplot as plt\n\n# Load the datasets into pandas dataframes\nratings = pd.read_csv('ratings.dat', sep='::', engine='python', names=['UserID', 'MovieID', 'Rating', 'Timestamp'], encoding='ISO-8859-1')\n\n# Convert the timestamp to datetime\nratings['Datetime'] = pd.to_datetime(ratings['Timestamp'], unit='s')\n\n# Create a scatter plot of user activity over time\nplt.figure(figsize=(10, 4))\nplt.plot_date(ratings['Datetime'], ratings['UserID'], alpha=0.1, markersize=2)\nplt.title('User Activity Over Time')\nplt.xlabel('Time')\nplt.ylabel('User ID')\nplt.show()",
      "outputs": []
    },
    {
      "id": "5aa61c65-c26b-4703-9c39-e8cd0514c2e2",
      "cell_type": "code",
      "metadata": {
        "jupyter": {
          "outputs_hidden": false,
          "source_hidden": false
        },
        "noteable": {
          "cell_type": "code",
          "output_collection_id": "fb4278ae-23d8-4da3-a9fd-1803543ed11e"
        },
        "ExecuteTime": {
          "end_time": "2023-06-07T11:00:11.886685+00:00",
          "start_time": "2023-06-07T11:00:08.725527+00:00"
        }
      },
      "execution_count": null,
      "source": "# Select 10 users\nselected_users = ratings['UserID'].unique()[:10]\n\n# Create a scatter plot of user activity over time for each selected user\nfor user in selected_users:\n    user_ratings = ratings[ratings['UserID'] == user]\n    plt.figure(figsize=(10, 4))\n    plt.plot_date(user_ratings['Datetime'], user_ratings['Rating'], alpha=0.5, markersize=5)\n    plt.title(f'User {user} Activity Over Time')\n    plt.xlabel('Time')\n    plt.ylabel('Rating')\n    plt.show()",
      "outputs": []
    },
    {
      "id": "1b35e46f-32a2-4b98-a7eb-c120d2b9bf68",
      "cell_type": "code",
      "metadata": {
        "jupyter": {
          "outputs_hidden": false,
          "source_hidden": false
        },
        "noteable": {
          "cell_type": "code",
          "output_collection_id": "8455c9ef-8fb0-4fca-a90f-71b782244122"
        },
        "ExecuteTime": {
          "end_time": "2023-06-07T11:14:38.191618+00:00",
          "start_time": "2023-06-07T11:14:36.576231+00:00"
        }
      },
      "execution_count": null,
      "source": "# Calculate the average sequence length (in days) for each user\nratings['Date'] = ratings['Datetime'].dt.date\nsequence_lengths = ratings.groupby('UserID')['Date'].apply(lambda x: (x.max() - x.min()).days)\naverage_sequence_length = sequence_lengths.mean()\naverage_sequence_length",
      "outputs": []
    },
    {
      "id": "4c4b8284-dc79-483e-bb7c-3241334862f3",
      "cell_type": "code",
      "metadata": {
        "jupyter": {
          "outputs_hidden": false,
          "source_hidden": false
        },
        "noteable": {
          "cell_type": "code",
          "output_collection_id": "b253c36e-7c4b-4b72-88e9-d3d22a6713af"
        },
        "ExecuteTime": {
          "end_time": "2023-06-07T11:20:14.336170+00:00",
          "start_time": "2023-06-07T11:20:14.147614+00:00"
        }
      },
      "execution_count": null,
      "source": "# Calculate the number of users\nnum_users = ratings['UserID'].nunique()\n\n# Calculate the number of items\nnum_items = ratings['MovieID'].nunique()\n\n# Calculate the average number of actions per user\navg_actions_per_user = ratings.groupby('UserID').size().mean()\n\n# Calculate the total number of actions\nnum_actions = len(ratings)\n\nnum_users, num_items, avg_actions_per_user, num_actions",
      "outputs": []
    },
    {
      "id": "010e4b4a-134f-4cc3-a6fe-331dffaf9107",
      "cell_type": "code",
      "metadata": {
        "jupyter": {
          "outputs_hidden": false,
          "source_hidden": false
        },
        "noteable": {
          "cell_type": "code",
          "output_collection_id": "0382f090-c6ce-4807-b5d5-5da06056c616"
        },
        "ExecuteTime": {
          "end_time": "2023-06-07T11:30:57.295952+00:00",
          "start_time": "2023-06-07T11:30:56.535128+00:00"
        }
      },
      "execution_count": null,
      "source": "# Calculate the time intervals between consecutive actions for each user\nratings['TimeDiff'] = ratings.groupby('UserID')['Datetime'].diff().dt.total_seconds()\n\n# Exclude time intervals of zero\ntime_diffs = ratings[ratings['TimeDiff'] != 0]['TimeDiff']\n\n# Plot the distribution of time intervals\nplt.figure(figsize=(10, 4))\nplt.hist(time_diffs, bins=100, alpha=0.75)\nplt.title('Time Interval Distribution')\nplt.xlabel('Time Interval (seconds)')\nplt.ylabel('Number')\nplt.show()",
      "outputs": []
    }
  ]
}